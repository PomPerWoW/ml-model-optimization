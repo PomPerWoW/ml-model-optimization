{
 "cells": [
  {
   "cell_type": "markdown",
   "metadata": {},
   "source": [
    "# LightGlue-ONNX Demo\n",
    "This demo shows how to export LightGlue to ONNX and perform inference with ONNXRuntime."
   ]
  },
  {
   "cell_type": "code",
   "execution_count": 1,
   "metadata": {},
   "outputs": [],
   "source": [
    "from export import export_onnx\n",
    "from infer import infer\n",
    "from timer import Timer"
   ]
  },
  {
   "cell_type": "markdown",
   "metadata": {},
   "source": [
    "## ONNX Export\n",
    "In this example we use SuperPoint features combined with LightGlue."
   ]
  },
  {
   "cell_type": "code",
   "execution_count": 2,
   "metadata": {},
   "outputs": [
    {
     "name": "stdout",
     "output_type": "stream",
     "text": [
      "Loaded SuperPoint model\n",
      "Loaded LightGlue model\n"
     ]
    },
    {
     "name": "stderr",
     "output_type": "stream",
     "text": [
      "d:\\anaconda\\envs\\cpu_env\\lib\\site-packages\\torch\\onnx\\symbolic_opset9.py:5858: UserWarning: Exporting aten::index operator of advanced indexing in opset 17 is achieved by combination of multiple ONNX operators, including Reshape, Transpose, Concat, and Gather. If indices include negative values, the exported graph will produce incorrect results.\n",
      "  warnings.warn(\n"
     ]
    }
   ],
   "source": [
    "extractor_type = \"superpoint\"  # \"disk\"\n",
    "extractor_path = f\"weights/{extractor_type}.onnx\"\n",
    "lightglue_path = f\"weights/{extractor_type}_lightglue.onnx\"\n",
    "\n",
    "export_onnx(\n",
    "    extractor_type=extractor_type,\n",
    "    extractor_path=extractor_path,\n",
    "    lightglue_path=lightglue_path,\n",
    "    dynamic=True,  # for dynamic image size\n",
    "    max_num_keypoints=None,\n",
    ")"
   ]
  },
  {
   "cell_type": "markdown",
   "metadata": {},
   "source": [
    "## ONNX Inference"
   ]
  },
  {
   "cell_type": "code",
   "execution_count": 3,
   "metadata": {},
   "outputs": [
    {
     "name": "stderr",
     "output_type": "stream",
     "text": [
      "d:\\anaconda\\envs\\cpu_env\\lib\\site-packages\\onnxruntime\\capi\\onnxruntime_inference_collection.py:69: UserWarning: Specified provider 'CUDAExecutionProvider' is not in available provider names.Available providers: 'AzureExecutionProvider, CPUExecutionProvider'\n",
      "  warnings.warn(\n"
     ]
    },
    {
     "name": "stdout",
     "output_type": "stream",
     "text": [
      "time elapsed: 1.5946134 s\n"
     ]
    }
   ],
   "source": [
    "timer = Timer()\n",
    "timer.start()\n",
    "m_kpts0, m_kpts1 = infer(\n",
    "    img_paths=[\"assets/DSC_0410.JPG\", \"assets/DSC_0411.JPG\"],\n",
    "    extractor_type=extractor_type,\n",
    "    extractor_path=extractor_path,\n",
    "    lightglue_path=lightglue_path,\n",
    "    img_size=640,\n",
    "    viz=False,\n",
    ")\n",
    "timer.stop()\n",
    "print(f'time elapsed: {timer.elapsed_time} s')"
   ]
  }
 ],
 "metadata": {
  "kernelspec": {
   "display_name": "Python 3 (ipykernel)",
   "language": "python",
   "name": "python3"
  },
  "language_info": {
   "codemirror_mode": {
    "name": "ipython",
    "version": 3
   },
   "file_extension": ".py",
   "mimetype": "text/x-python",
   "name": "python",
   "nbconvert_exporter": "python",
   "pygments_lexer": "ipython3",
   "version": "3.9.19"
  }
 },
 "nbformat": 4,
 "nbformat_minor": 2
}

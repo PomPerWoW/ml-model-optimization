{
 "cells": [
  {
   "cell_type": "code",
   "execution_count": 1,
   "metadata": {},
   "outputs": [],
   "source": [
    "%load_ext autoreload\n",
    "%autoreload 2\n",
    "\n",
    "import numpy as np\n",
    "import pandas as pd\n",
    "import torch\n",
    "import pickle\n",
    "from app.util.timer import Timer\n",
    "from app.util.Differ import Differ\n",
    "from main import LightGlueRuntimeTest"
   ]
  },
  {
   "cell_type": "markdown",
   "metadata": {},
   "source": [
    "GPU input"
   ]
  },
  {
   "cell_type": "code",
   "execution_count": 2,
   "metadata": {},
   "outputs": [],
   "source": [
    "images1 = \"sample_image_0_0.jpg\"\n",
    "images2 = \"sample_image_0_1.jpg\""
   ]
  },
  {
   "cell_type": "markdown",
   "metadata": {},
   "source": [
    "Initialize LightGlue class"
   ]
  },
  {
   "cell_type": "code",
   "execution_count": 3,
   "metadata": {},
   "outputs": [],
   "source": [
    "gpu_lightglue = LightGlueRuntimeTest()"
   ]
  },
  {
   "cell_type": "markdown",
   "metadata": {},
   "source": [
    "Inference"
   ]
  },
  {
   "cell_type": "code",
   "execution_count": null,
   "metadata": {},
   "outputs": [],
   "source": [
    "gpu_lightglue.lightglue_model(images1, images2)"
   ]
  },
  {
   "cell_type": "code",
   "execution_count": null,
   "metadata": {},
   "outputs": [],
   "source": [
    "gpu_lightglue.lightglue_onnx_model(images1, images2)"
   ]
  },
  {
   "cell_type": "markdown",
   "metadata": {},
   "source": [
    "Average CPU Time (10)"
   ]
  },
  {
   "cell_type": "code",
   "execution_count": 4,
   "metadata": {},
   "outputs": [],
   "source": [
    "result_time = []"
   ]
  },
  {
   "cell_type": "code",
   "execution_count": 5,
   "metadata": {},
   "outputs": [
    {
     "name": "stdout",
     "output_type": "stream",
     "text": [
      "[INFO] Inference Model\n"
     ]
    },
    {
     "name": "stderr",
     "output_type": "stream",
     "text": [
      "C:\\Users\\User\\OneDrive\\Desktop\\pomper\\Internship\\yolov9\\app\\LightGlue\\lightglue\\lightglue.py:113: UserWarning: 1Torch was not compiled with flash attention. (Triggered internally at C:\\actions-runner\\_work\\pytorch\\pytorch\\builder\\windows\\pytorch\\aten\\src\\ATen\\native\\transformers\\cuda\\sdp_utils.cpp:455.)\n",
      "  v = F.scaled_dot_product_attention(*args, attn_mask=mask).to(q.dtype)\n"
     ]
    },
    {
     "name": "stdout",
     "output_type": "stream",
     "text": [
      "time elapsed: 0.4081451000000005 s\n",
      "[INFO] Inference Model\n",
      "time elapsed: 0.09956039999999966 s\n",
      "[INFO] Inference Model\n",
      "time elapsed: 0.09450290000000017 s\n",
      "[INFO] Inference Model\n",
      "time elapsed: 0.1131814999999996 s\n",
      "[INFO] Inference Model\n",
      "time elapsed: 0.0948152000000011 s\n",
      "[INFO] Inference Model\n",
      "time elapsed: 0.10351490000000041 s\n",
      "[INFO] Inference Model\n",
      "time elapsed: 0.10492520000000027 s\n",
      "[INFO] Inference Model\n",
      "time elapsed: 0.11143679999999989 s\n",
      "[INFO] Inference Model\n",
      "time elapsed: 0.0981455000000011 s\n",
      "[INFO] Inference Model\n",
      "time elapsed: 0.0971776000000002 s\n",
      "[INFO] Inference Model\n",
      "['CUDAExecutionProvider', 'CPUExecutionProvider']\n",
      "time elapsed: 2.3018310999999994 s\n",
      "[INFO] Inference Model\n",
      "['CUDAExecutionProvider', 'CPUExecutionProvider']\n",
      "time elapsed: 3.794402400000001 s\n",
      "[INFO] Inference Model\n",
      "['CUDAExecutionProvider', 'CPUExecutionProvider']\n",
      "time elapsed: 3.6040205000000007 s\n",
      "[INFO] Inference Model\n",
      "['CUDAExecutionProvider', 'CPUExecutionProvider']\n",
      "time elapsed: 3.610373299999999 s\n",
      "[INFO] Inference Model\n",
      "['CUDAExecutionProvider', 'CPUExecutionProvider']\n",
      "time elapsed: 3.6686958999999995 s\n",
      "[INFO] Inference Model\n",
      "['CUDAExecutionProvider', 'CPUExecutionProvider']\n",
      "time elapsed: 3.6169386999999986 s\n",
      "[INFO] Inference Model\n",
      "['CUDAExecutionProvider', 'CPUExecutionProvider']\n",
      "time elapsed: 3.5666936000000007 s\n",
      "[INFO] Inference Model\n",
      "['CUDAExecutionProvider', 'CPUExecutionProvider']\n",
      "time elapsed: 3.6023688000000007 s\n",
      "[INFO] Inference Model\n",
      "['CUDAExecutionProvider', 'CPUExecutionProvider']\n",
      "time elapsed: 3.5925517000000013 s\n",
      "[INFO] Inference Model\n",
      "['CUDAExecutionProvider', 'CPUExecutionProvider']\n",
      "time elapsed: 3.597111400000003 s\n"
     ]
    }
   ],
   "source": [
    "def run_inference_with_args(inference_func, img1, img2):\n",
    "    def wrapper():\n",
    "        return inference_func(img1, img2)\n",
    "    return wrapper\n",
    "\n",
    "def collect_execution_times(run_inference_func, iterations=10):\n",
    "    execution_times = []\n",
    "    for i in range(iterations):\n",
    "        img1 = f\"sample_image_{i}_0.jpg\"\n",
    "        img2 = f\"sample_image_{i}_1.jpg\"\n",
    "        wrapper_func = run_inference_with_args(run_inference_func, img1, img2)\n",
    "        result = wrapper_func()\n",
    "        execution_times.append(result * 1000)\n",
    "    return execution_times\n",
    "\n",
    "result_time.append(collect_execution_times(gpu_lightglue.lightglue_model))\n",
    "result_time.append(collect_execution_times(gpu_lightglue.lightglue_onnx_model))"
   ]
  },
  {
   "cell_type": "code",
   "execution_count": 6,
   "metadata": {},
   "outputs": [
    {
     "data": {
      "text/html": [
       "<div>\n",
       "<style scoped>\n",
       "    .dataframe tbody tr th:only-of-type {\n",
       "        vertical-align: middle;\n",
       "    }\n",
       "\n",
       "    .dataframe tbody tr th {\n",
       "        vertical-align: top;\n",
       "    }\n",
       "\n",
       "    .dataframe thead th {\n",
       "        text-align: right;\n",
       "    }\n",
       "</style>\n",
       "<table border=\"1\" class=\"dataframe\">\n",
       "  <thead>\n",
       "    <tr style=\"text-align: right;\">\n",
       "      <th></th>\n",
       "      <th>lightglue time gpu (ms)</th>\n",
       "      <th>lightglue onnx runtime model time gpu (ms)</th>\n",
       "    </tr>\n",
       "  </thead>\n",
       "  <tbody>\n",
       "    <tr>\n",
       "      <th>count</th>\n",
       "      <td>10.000000</td>\n",
       "      <td>10.000000</td>\n",
       "    </tr>\n",
       "    <tr>\n",
       "      <th>mean</th>\n",
       "      <td>132.540510</td>\n",
       "      <td>3495.498740</td>\n",
       "    </tr>\n",
       "    <tr>\n",
       "      <th>std</th>\n",
       "      <td>97.053489</td>\n",
       "      <td>424.282167</td>\n",
       "    </tr>\n",
       "    <tr>\n",
       "      <th>min</th>\n",
       "      <td>94.502900</td>\n",
       "      <td>2301.831100</td>\n",
       "    </tr>\n",
       "    <tr>\n",
       "      <th>50%</th>\n",
       "      <td>101.537650</td>\n",
       "      <td>3603.194650</td>\n",
       "    </tr>\n",
       "    <tr>\n",
       "      <th>90%</th>\n",
       "      <td>142.677860</td>\n",
       "      <td>3681.266550</td>\n",
       "    </tr>\n",
       "    <tr>\n",
       "      <th>95%</th>\n",
       "      <td>275.411480</td>\n",
       "      <td>3737.834475</td>\n",
       "    </tr>\n",
       "    <tr>\n",
       "      <th>max</th>\n",
       "      <td>408.145100</td>\n",
       "      <td>3794.402400</td>\n",
       "    </tr>\n",
       "  </tbody>\n",
       "</table>\n",
       "</div>"
      ],
      "text/plain": [
       "       lightglue time gpu (ms)  lightglue onnx runtime model time gpu (ms)\n",
       "count                10.000000                                   10.000000\n",
       "mean                132.540510                                 3495.498740\n",
       "std                  97.053489                                  424.282167\n",
       "min                  94.502900                                 2301.831100\n",
       "50%                 101.537650                                 3603.194650\n",
       "90%                 142.677860                                 3681.266550\n",
       "95%                 275.411480                                 3737.834475\n",
       "max                 408.145100                                 3794.402400"
      ]
     },
     "execution_count": 6,
     "metadata": {},
     "output_type": "execute_result"
    }
   ],
   "source": [
    "result_time = np.array(result_time)\n",
    "df = pd.DataFrame(np.transpose(result_time), \n",
    "                  columns=[\"lightglue time gpu (ms)\",\n",
    "                           \"lightglue onnx runtime model time gpu (ms)\"])\n",
    "df.describe(percentiles=[.9, .95])"
   ]
  },
  {
   "cell_type": "code",
   "execution_count": 7,
   "metadata": {},
   "outputs": [],
   "source": [
    "with open('./app/saved_pkl/gpu_lg_df.pkl', 'wb') as f:\n",
    "    pickle.dump(df, f)"
   ]
  }
 ],
 "metadata": {
  "kernelspec": {
   "display_name": "cpu_env",
   "language": "python",
   "name": "python3"
  },
  "language_info": {
   "codemirror_mode": {
    "name": "ipython",
    "version": 3
   },
   "file_extension": ".py",
   "mimetype": "text/x-python",
   "name": "python",
   "nbconvert_exporter": "python",
   "pygments_lexer": "ipython3",
   "version": "3.9.19"
  }
 },
 "nbformat": 4,
 "nbformat_minor": 2
}

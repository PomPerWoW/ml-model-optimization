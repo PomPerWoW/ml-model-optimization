{
 "cells": [
  {
   "cell_type": "code",
   "execution_count": 1,
   "metadata": {},
   "outputs": [],
   "source": [
    "%load_ext autoreload\n",
    "%autoreload 2\n",
    "\n",
    "import numpy as np\n",
    "import pandas as pd\n",
    "import torch\n",
    "import pickle\n",
    "from app.util.timer import Timer\n",
    "from app.util.Differ import Differ\n",
    "from main import LightGlueRuntimeTest"
   ]
  },
  {
   "cell_type": "markdown",
   "metadata": {},
   "source": [
    "CPU input"
   ]
  },
  {
   "cell_type": "code",
   "execution_count": 2,
   "metadata": {},
   "outputs": [],
   "source": [
    "images1 = \"sample_image_0_0.jpg\"\n",
    "images2 = \"sample_image_0_1.jpg\""
   ]
  },
  {
   "cell_type": "markdown",
   "metadata": {},
   "source": [
    "Initialize LightGlue class"
   ]
  },
  {
   "cell_type": "code",
   "execution_count": 3,
   "metadata": {},
   "outputs": [],
   "source": [
    "cpu_lightglue = LightGlueRuntimeTest()"
   ]
  },
  {
   "cell_type": "markdown",
   "metadata": {},
   "source": [
    "Inference"
   ]
  },
  {
   "cell_type": "code",
   "execution_count": null,
   "metadata": {},
   "outputs": [],
   "source": [
    "cpu_lightglue.lightglue_model(images1, images2)"
   ]
  },
  {
   "cell_type": "code",
   "execution_count": null,
   "metadata": {},
   "outputs": [],
   "source": [
    "cpu_lightglue.lightglue_onnx_model(images1, images2)"
   ]
  },
  {
   "cell_type": "markdown",
   "metadata": {},
   "source": [
    "Average CPU Time (10)"
   ]
  },
  {
   "cell_type": "code",
   "execution_count": 4,
   "metadata": {},
   "outputs": [],
   "source": [
    "result_time = []"
   ]
  },
  {
   "cell_type": "code",
   "execution_count": 5,
   "metadata": {},
   "outputs": [
    {
     "name": "stdout",
     "output_type": "stream",
     "text": [
      "[INFO] Inference Model\n",
      "time elapsed: 2.9365121000000016 s\n",
      "[INFO] Inference Model\n",
      "time elapsed: 3.376421999999991 s\n",
      "[INFO] Inference Model\n",
      "time elapsed: 3.080915900000008 s\n",
      "[INFO] Inference Model\n",
      "time elapsed: 2.949050100000008 s\n",
      "[INFO] Inference Model\n",
      "time elapsed: 2.7613586000000083 s\n",
      "[INFO] Inference Model\n",
      "time elapsed: 2.6343755999999985 s\n",
      "[INFO] Inference Model\n",
      "time elapsed: 2.7579852000000074 s\n",
      "[INFO] Inference Model\n",
      "time elapsed: 3.126638100000008 s\n",
      "[INFO] Inference Model\n",
      "time elapsed: 3.0330383999999952 s\n",
      "[INFO] Inference Model\n",
      "time elapsed: 2.8814662999999996 s\n",
      "[INFO] Inference Model\n",
      "['CPUExecutionProvider']\n",
      "time elapsed: 0.9448014000000029 s\n",
      "[INFO] Inference Model\n",
      "['CPUExecutionProvider']\n",
      "time elapsed: 1.1348897999999963 s\n",
      "[INFO] Inference Model\n",
      "['CPUExecutionProvider']\n",
      "time elapsed: 0.855527600000002 s\n",
      "[INFO] Inference Model\n",
      "['CPUExecutionProvider']\n",
      "time elapsed: 0.9548071999999905 s\n",
      "[INFO] Inference Model\n",
      "['CPUExecutionProvider']\n",
      "time elapsed: 0.9465171000000083 s\n",
      "[INFO] Inference Model\n",
      "['CPUExecutionProvider']\n",
      "time elapsed: 0.80508540000001 s\n",
      "[INFO] Inference Model\n",
      "['CPUExecutionProvider']\n",
      "time elapsed: 1.017963199999997 s\n",
      "[INFO] Inference Model\n",
      "['CPUExecutionProvider']\n",
      "time elapsed: 0.9464408999999989 s\n",
      "[INFO] Inference Model\n",
      "['CPUExecutionProvider']\n",
      "time elapsed: 0.9238150000000047 s\n",
      "[INFO] Inference Model\n",
      "['CPUExecutionProvider']\n",
      "time elapsed: 0.8982937000000106 s\n"
     ]
    }
   ],
   "source": [
    "def run_inference_with_args(inference_func, img1, img2):\n",
    "    def wrapper():\n",
    "        return inference_func(img1, img2)\n",
    "    return wrapper\n",
    "\n",
    "def collect_execution_times(run_inference_func, iterations=10):\n",
    "    execution_times = []\n",
    "    for i in range(iterations):\n",
    "        img1 = f\"sample_image_{i}_0.jpg\"\n",
    "        img2 = f\"sample_image_{i}_1.jpg\"\n",
    "        wrapper_func = run_inference_with_args(run_inference_func, img1, img2)\n",
    "        result = wrapper_func()\n",
    "        execution_times.append(result * 1000)\n",
    "    return execution_times\n",
    "\n",
    "result_time.append(collect_execution_times(cpu_lightglue.lightglue_model))\n",
    "result_time.append(collect_execution_times(cpu_lightglue.lightglue_onnx_model))"
   ]
  },
  {
   "cell_type": "code",
   "execution_count": 6,
   "metadata": {},
   "outputs": [
    {
     "data": {
      "text/html": [
       "<div>\n",
       "<style scoped>\n",
       "    .dataframe tbody tr th:only-of-type {\n",
       "        vertical-align: middle;\n",
       "    }\n",
       "\n",
       "    .dataframe tbody tr th {\n",
       "        vertical-align: top;\n",
       "    }\n",
       "\n",
       "    .dataframe thead th {\n",
       "        text-align: right;\n",
       "    }\n",
       "</style>\n",
       "<table border=\"1\" class=\"dataframe\">\n",
       "  <thead>\n",
       "    <tr style=\"text-align: right;\">\n",
       "      <th></th>\n",
       "      <th>lightglue time cpu (ms)</th>\n",
       "      <th>lightglue onnx runtime model time cpu (ms)</th>\n",
       "    </tr>\n",
       "  </thead>\n",
       "  <tbody>\n",
       "    <tr>\n",
       "      <th>count</th>\n",
       "      <td>10.000000</td>\n",
       "      <td>10.000000</td>\n",
       "    </tr>\n",
       "    <tr>\n",
       "      <th>mean</th>\n",
       "      <td>2953.776230</td>\n",
       "      <td>942.814130</td>\n",
       "    </tr>\n",
       "    <tr>\n",
       "      <th>std</th>\n",
       "      <td>214.445592</td>\n",
       "      <td>89.222737</td>\n",
       "    </tr>\n",
       "    <tr>\n",
       "      <th>min</th>\n",
       "      <td>2634.375600</td>\n",
       "      <td>805.085400</td>\n",
       "    </tr>\n",
       "    <tr>\n",
       "      <th>50%</th>\n",
       "      <td>2942.781100</td>\n",
       "      <td>945.621150</td>\n",
       "    </tr>\n",
       "    <tr>\n",
       "      <th>90%</th>\n",
       "      <td>3151.616490</td>\n",
       "      <td>1029.655860</td>\n",
       "    </tr>\n",
       "    <tr>\n",
       "      <th>95%</th>\n",
       "      <td>3264.019245</td>\n",
       "      <td>1082.272830</td>\n",
       "    </tr>\n",
       "    <tr>\n",
       "      <th>max</th>\n",
       "      <td>3376.422000</td>\n",
       "      <td>1134.889800</td>\n",
       "    </tr>\n",
       "  </tbody>\n",
       "</table>\n",
       "</div>"
      ],
      "text/plain": [
       "       lightglue time cpu (ms)  lightglue onnx runtime model time cpu (ms)\n",
       "count                10.000000                                   10.000000\n",
       "mean               2953.776230                                  942.814130\n",
       "std                 214.445592                                   89.222737\n",
       "min                2634.375600                                  805.085400\n",
       "50%                2942.781100                                  945.621150\n",
       "90%                3151.616490                                 1029.655860\n",
       "95%                3264.019245                                 1082.272830\n",
       "max                3376.422000                                 1134.889800"
      ]
     },
     "execution_count": 6,
     "metadata": {},
     "output_type": "execute_result"
    }
   ],
   "source": [
    "result_time = np.array(result_time)\n",
    "df = pd.DataFrame(np.transpose(result_time), \n",
    "                  columns=[\"lightglue time cpu (ms)\",\n",
    "                           \"lightglue onnx runtime model time cpu (ms)\"])\n",
    "df.describe(percentiles=[.9, .95])"
   ]
  },
  {
   "cell_type": "code",
   "execution_count": 7,
   "metadata": {},
   "outputs": [],
   "source": [
    "with open('./app/saved_pkl/cpu_lg_df.pkl', 'wb') as f:\n",
    "    pickle.dump(df, f)"
   ]
  }
 ],
 "metadata": {
  "kernelspec": {
   "display_name": "cpu_env",
   "language": "python",
   "name": "python3"
  },
  "language_info": {
   "codemirror_mode": {
    "name": "ipython",
    "version": 3
   },
   "file_extension": ".py",
   "mimetype": "text/x-python",
   "name": "python",
   "nbconvert_exporter": "python",
   "pygments_lexer": "ipython3",
   "version": "3.9.19"
  }
 },
 "nbformat": 4,
 "nbformat_minor": 2
}
